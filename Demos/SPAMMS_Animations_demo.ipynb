{
 "cells": [
  {
   "cell_type": "markdown",
   "id": "22ee0818",
   "metadata": {},
   "source": [
    "# SPAMMS Animations"
   ]
  },
  {
   "cell_type": "markdown",
   "id": "4dc480d9",
   "metadata": {},
   "source": [
    "Once your SPAMMS models have been calculated, it can be very imformative to visualize how the line profiles vary with the orientation of your system.  In the case of semi-detached or contact binaries these phase differences can have quite a large effect on the observed line profiles.  In this notebook, we demonstrate how to create an animation to visualize this."
   ]
  },
  {
   "cell_type": "code",
   "execution_count": null,
   "id": "b0bb4cbe",
   "metadata": {},
   "outputs": [],
   "source": [
    "# Lets import the necessary packages...\n",
    "import numpy as np\n",
    "import matplotlib.pyplot as plt\n",
    "from matplotlib.collections import PolyCollection\n",
    "from matplotlib import cm, colors\n",
    "import matplotlib.animation as animation\n",
    "%matplotlib notebook\n",
    "plt.rcParams['figure.dpi'] = 100\n",
    "import spamms as sp"
   ]
  },
  {
   "cell_type": "markdown",
   "id": "3dd0a064",
   "metadata": {},
   "source": [
    "In any given SPAMMS run, you could be calculating several different models so we need to specify which model we wish to visualize.  Lets start here:"
   ]
  },
  {
   "cell_type": "code",
   "execution_count": null,
   "id": "fa714398",
   "metadata": {},
   "outputs": [],
   "source": [
    "output_folder = 'Outputs/Demo_semidetached/'\n",
    "model_number = 'Model_0002'\n",
    "He_abundance = '0.1'\n",
    "CNO_abundance = '7.5'"
   ]
  },
  {
   "cell_type": "markdown",
   "id": "b1e5b37b",
   "metadata": {},
   "source": [
    "Now that we have this, we can grab the necessary information from the input file and calculate the PHOEBE models for the system corresponding to the information from that model"
   ]
  },
  {
   "cell_type": "code",
   "execution_count": null,
   "id": "c55f9743",
   "metadata": {},
   "outputs": [],
   "source": [
    "# grab the input file and use the builtin SPAMMS functions to read and interpret the input file\n",
    "input_file = output_folder + 'input.txt'\n",
    "\n",
    "fit_param_values, abund_param_values, line_list, io_dict = sp.read_input_file(input_file)\n",
    "times, obs_specs = sp.get_obs_spec_and_times(io_dict)\n",
    "\n",
    "# Creates the dictionary for each combination of parameters as defined in the input file\n",
    "run_dictionaries = sp.create_runs_and_ids(fit_param_values)"
   ]
  },
  {
   "cell_type": "markdown",
   "id": "3d238ec7",
   "metadata": {},
   "source": [
    "Based on the model number (which corresponds to the dictionary number) we can grab the model information that we need (orbital and stellar parameters) and run the PHOEBE model\n"
   ]
  },
  {
   "cell_type": "code",
   "execution_count": null,
   "id": "5cd9df51",
   "metadata": {},
   "outputs": [],
   "source": [
    "# Grab the model info and run the PHOEBE Model\n",
    "run_dictionary = run_dictionaries[int(model_number.split('_')[-1])]\n",
    "s = sp.run_b_phoebe_model(times, abund_param_values, io_dict, run_dictionary)"
   ]
  },
  {
   "cell_type": "markdown",
   "id": "e97302fc",
   "metadata": {},
   "source": [
    "Now we can gather the data that we need for the animation. To do so, lets start by looping through the PHOEBE models and the SPAMMS models to grab the relevant info that we need for each frame."
   ]
  },
  {
   "cell_type": "code",
   "execution_count": null,
   "id": "0e9ffbc6",
   "metadata": {},
   "outputs": [],
   "source": [
    "# Lets start with the PHOEBE models.\n",
    "\n",
    "# We need the geometrical info (the polygons that we will plot to visualize the mesh)\n",
    "polygons_all = []\n",
    "\n",
    "# We need the face color for the mesh triangles.  Lets use temperature here\n",
    "teffs_all = []\n",
    "rvs_all = []\n",
    "loggs_all = []\n",
    "\n",
    "\n",
    "# We'll loop through each time step that the PHOEBE model has and grab the \n",
    "# relevant info and populate the arrays above\n",
    "for i in range(len(s['times@dataset@lc'].value)):\n",
    "    print('%i/%i'%(i, len(s['times@dataset@lc'].value) - 1), end=\"\\r\")\n",
    "          \n",
    "    phcb = s['%09.6f'%s['times@dataset@lc'].value[i]]\n",
    "\n",
    "    verts = np.concatenate([phcb['mesh@primary@mesh01@uvw_elements'].get_value(), \n",
    "                            phcb['mesh@secondary@mesh01@uvw_elements'].get_value()])\n",
    "    teffs = np.concatenate([phcb['mesh@primary@mesh01@teffs'].get_value(), \n",
    "                            phcb['mesh@secondary@mesh01@teffs'].get_value()])\n",
    "    loggs = np.concatenate([phcb['mesh@primary@mesh01@loggs'].get_value(), \n",
    "                            phcb['mesh@secondary@mesh01@loggs'].get_value()])\n",
    "    rvs = np.concatenate([phcb['mesh@primary@rvs'].get_value(), \n",
    "                          phcb['mesh@secondary@rvs'].get_value()])\n",
    "\n",
    "    xs = verts[:, :, 0]\n",
    "    ys = verts[:, :, 1]\n",
    "    zs = verts[:, :, 2]\n",
    "\n",
    "    polygons = np.concatenate((xs[:,:,np.newaxis], ys[:,:,np.newaxis]), axis=2)\n",
    "\n",
    "\n",
    "    viss = np.concatenate([phcb['visibilities@primary'].get_value(), \n",
    "                           phcb['visibilities@secondary'].get_value()])\n",
    "    inds = (viss > 0)\n",
    "\n",
    "    z_values = np.concatenate([phcb['ws@primary'].get_value(), \n",
    "                               phcb['ws@secondary'].get_value()])\n",
    "    zinds = np.argsort(z_values[inds])\n",
    "    \n",
    "    polygons_all.append(polygons[inds][zinds])\n",
    "    rvs_all.append(rvs[inds][zinds])\n",
    "\n"
   ]
  },
  {
   "cell_type": "markdown",
   "id": "8c594005",
   "metadata": {},
   "source": [
    "To deal with the SPAMMS models, we'll use the same function that we used in the previous notebook:"
   ]
  },
  {
   "cell_type": "code",
   "execution_count": null,
   "id": "e2ff625f",
   "metadata": {},
   "outputs": [],
   "source": [
    "def SPAMMS_lines_stitch(w1, f1, w2, f2):\n",
    "    # To be used with SPAMMS spectral lines.  This function stitches together spectral lines by multiplying\n",
    "    # normalized fluxes.  If there is no overlap region then the lines are just appended\n",
    "    final_wave = []\n",
    "    final_flux = []\n",
    "    \n",
    "    if w1[-1] < w2[0]:\n",
    "        #if no overlap then\n",
    "        final_wave.extend(w1)\n",
    "        final_wave.extend(w2)\n",
    "        final_flux.extend(f1)\n",
    "        final_flux.extend(f2)\n",
    "    else:\n",
    "        # Define a wavelength array that covers both lines and interpolate both to the same wavelength array\n",
    "        # Then multiply the fluxes together and return final wavelength and flux arrays\n",
    "        \n",
    "        final_wave = np.arange(w1[0], w2[-1]+0.001, 0.01)\n",
    "        \n",
    "        f1_interp = np.interp(final_wave, w1, f1, left=1.0, right=1.0)\n",
    "        f2_interp = np.interp(final_wave, w2, f2, left=1.0, right=1.0)\n",
    "        \n",
    "        final_flux = f1_interp * f2_interp\n",
    "        \n",
    "        \n",
    "    return final_wave, final_flux\n",
    "\n",
    "\n",
    "def compile_SPAMMS_spectra(output_folder, model_number, He_abundance, CNO_abundance):\n",
    "    # Load in the relevant information\n",
    "    input_file = output_folder + 'input.txt'\n",
    "\n",
    "    fit_param_values, abund_param_values, line_list, io_dict = sp.read_input_file(input_file)\n",
    "    times, obs_specs = sp.get_obs_spec_and_times(io_dict)\n",
    "\n",
    "    run_dictionaries = sp.create_runs_and_ids(fit_param_values)\n",
    "    run_dictionary = run_dictionaries[int(model_number.split('_')[-1])]\n",
    "    \n",
    "    # define the path to the individual lines\n",
    "    path_to_lines = output_folder + model_number + '/He%s_CNO%s/'%(He_abundance, CNO_abundance)\n",
    "    \n",
    "    # define our wavelength and flux lists where we will append the spectrum from each timestep\n",
    "    wavelengths = []\n",
    "    fluxes = []\n",
    "    \n",
    "    #loop through each time step\n",
    "    for i in range(len(times)):\n",
    "\n",
    "        line_wavelengths = []\n",
    "        line_fluxes = []\n",
    "\n",
    "        # loop through and grab each line\n",
    "        for line in line_list:\n",
    "            w,f = np.loadtxt(path_to_lines + 'hjd' + str(round(times[i], 13)).ljust(13, '0') + '_' + line + '.txt').T\n",
    "            line_wavelengths.append(w)\n",
    "            line_fluxes.append(f)\n",
    "            \n",
    "        # order the lines by wavelength to make stitching them together easier\n",
    "        inds = np.array(np.argsort([i[0] for i in line_wavelengths]))\n",
    "\n",
    "        # lets combine the lines to make a spectrum\n",
    "        wavelength = line_wavelengths[inds[0]]\n",
    "        flux = line_fluxes[inds[0]]\n",
    "        for j in range(1, len(inds)):\n",
    "            wavelength, flux = SPAMMS_lines_stitch(wavelength, flux, line_wavelengths[inds[j]], line_fluxes[inds[j]])\n",
    "\n",
    "        wavelengths.append(wavelength)\n",
    "        fluxes.append(flux)\n",
    "    \n",
    "    return wavelengths, fluxes\n"
   ]
  },
  {
   "cell_type": "code",
   "execution_count": null,
   "id": "686ad354",
   "metadata": {},
   "outputs": [],
   "source": [
    "wavelengths, fluxes = compile_SPAMMS_spectra(output_folder, model_number, He_abundance, CNO_abundance)"
   ]
  },
  {
   "cell_type": "markdown",
   "id": "25af7af3",
   "metadata": {},
   "source": [
    "Now we can start actually making the plots and the animation"
   ]
  },
  {
   "cell_type": "code",
   "execution_count": null,
   "id": "d28bb871",
   "metadata": {
    "scrolled": false
   },
   "outputs": [],
   "source": [
    "# define our axes\n",
    "fig, axs = plt.subplots(2,1, figsize = (6,9))\n",
    "\n",
    "# calculate our minimum and maximum temperature to scale our colorbar\n",
    "min_teff = min([min(i) for i in teffs_all])\n",
    "max_teff = max([max(i) for i in teffs_all])\n",
    "norm = colors.Normalize(vmin=min_teff, vmax=max_teff)\n",
    "fig.colorbar(cm.ScalarMappable(norm=norm, cmap='inferno'), ax=axs[0])\n",
    "\n",
    "# create a collection of polygons using the first frame\n",
    "pc = PolyCollection(polygons_all[0],\n",
    "                    edgecolors=cm.inferno(norm(teffs_all[0])),\n",
    "                    facecolors=cm.inferno(norm(teffs_all[0])))\n",
    "\n",
    "# add the collection to our axes and make some adjustments to the bounds\n",
    "axs[0].add_collection(pc)\n",
    "axs[0].set_aspect('equal')\n",
    "axs[0].axis('scaled')\n",
    "\n",
    "axs[0].set_xlim((-24,24))\n",
    "axs[0].set_ylim((-16,16))\n",
    "# axs[0].axis('off')\n",
    "\n",
    "# add in the spectra to the other axes\n",
    "line, = axs[1].plot(wavelengths[0], fluxes[0], c='k')\n",
    "# axs[1].set_xlim((4425,4585))\n",
    "axs[1].set_ylim((0.6, 1.05))\n",
    "axs[1].set_xlabel('Wavelength ($\\AA$)')\n",
    "axs[1].set_ylabel('Normalized Flux')\n",
    "\n",
    "# define our animation function\n",
    "def animate(i):\n",
    "    pc.set_verts(polygons_all[i])\n",
    "    pc.set_edgecolors(cm.inferno(norm(teffs_all[i])))\n",
    "    pc.set_facecolors(cm.inferno(norm(teffs_all[i])))\n",
    "    line.set_data(wavelengths[i], fluxes[i])\n",
    "\n",
    "    \n",
    "def init():\n",
    "    pc.set_verts([])\n",
    "    line.set_data([],[])\n",
    "    return pc, line,\n",
    "\n",
    "# call the animation function, but lets leave off the last frame as its the same as the first\n",
    "ani = animation.FuncAnimation(fig, animate, np.arange(0, len(times) -1), init_func=init,\n",
    "                              interval=100, blit=True)\n",
    "plt.show()"
   ]
  },
  {
   "cell_type": "code",
   "execution_count": null,
   "id": "827e056b",
   "metadata": {},
   "outputs": [],
   "source": []
  }
 ],
 "metadata": {
  "kernelspec": {
   "display_name": "Python 3 (ipykernel)",
   "language": "python",
   "name": "python3"
  },
  "language_info": {
   "codemirror_mode": {
    "name": "ipython",
    "version": 3
   },
   "file_extension": ".py",
   "mimetype": "text/x-python",
   "name": "python",
   "nbconvert_exporter": "python",
   "pygments_lexer": "ipython3",
   "version": "3.10.6"
  }
 },
 "nbformat": 4,
 "nbformat_minor": 5
}

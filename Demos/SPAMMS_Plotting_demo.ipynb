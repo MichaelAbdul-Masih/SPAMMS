{
 "cells": [
  {
   "cell_type": "markdown",
   "id": "22ee0818",
   "metadata": {},
   "source": [
    "# SPAMMS Plots"
   ]
  },
  {
   "cell_type": "markdown",
   "id": "4dc480d9",
   "metadata": {},
   "source": [
    "Here we will go over the basics of gathering the output models from SPAMMS and plotting them in a meaningful way."
   ]
  },
  {
   "cell_type": "code",
   "execution_count": null,
   "id": "b0bb4cbe",
   "metadata": {},
   "outputs": [],
   "source": [
    "# Lets import the necessary packages...\n",
    "import numpy as np\n",
    "import matplotlib.pyplot as plt\n",
    "from matplotlib.collections import PolyCollection\n",
    "from matplotlib import cm, colors\n",
    "%matplotlib notebook\n",
    "plt.rcParams['figure.dpi'] = 100\n",
    "import spamms as sp"
   ]
  },
  {
   "cell_type": "markdown",
   "id": "3dd0a064",
   "metadata": {},
   "source": [
    "In any given SPAMMS run, you could be calculating several different models so we need to specify which model we wish to visualize.  Lets start here:"
   ]
  },
  {
   "cell_type": "code",
   "execution_count": null,
   "id": "fa714398",
   "metadata": {},
   "outputs": [],
   "source": [
    "output_folder = 'Outputs/Demo_rapid_rotator/'\n",
    "model_number = 'Model_0000'\n",
    "He_abundance = '0.1'\n",
    "CNO_abundance = '7.5'"
   ]
  },
  {
   "cell_type": "markdown",
   "id": "b1e5b37b",
   "metadata": {},
   "source": [
    "Now that we have this, we can grab the necessary information from the input file."
   ]
  },
  {
   "cell_type": "code",
   "execution_count": null,
   "id": "c55f9743",
   "metadata": {},
   "outputs": [],
   "source": [
    "# grab the input file and use the builtin SPAMMS functions to read and interpret the input file\n",
    "input_file = output_folder + 'input.txt'\n",
    "\n",
    "fit_param_values, abund_param_values, line_list, io_dict = sp.read_input_file(input_file)\n",
    "times, obs_specs = sp.get_obs_spec_and_times(io_dict)\n",
    "\n",
    "# Creates the dictionary for each combination of parameters as defined in the input file\n",
    "run_dictionaries = sp.create_runs_and_ids(fit_param_values)\n",
    "# Grab the dictionary that corresponds to the model we want to look at\n",
    "run_dictionary = run_dictionaries[int(model_number.split('_')[-1])]"
   ]
  },
  {
   "cell_type": "markdown",
   "id": "f416ab2c",
   "metadata": {},
   "source": [
    "Now that we've done this, we have access to everything that we've specified in the input file and the exact parameters that were used to calculate our model.  For example we can print out the line list or any of the stellar parameters that we want"
   ]
  },
  {
   "cell_type": "code",
   "execution_count": null,
   "id": "21f6d3eb",
   "metadata": {},
   "outputs": [],
   "source": [
    "print(line_list)\n",
    "print(run_dictionary)"
   ]
  },
  {
   "cell_type": "markdown",
   "id": "e8ab75ac",
   "metadata": {},
   "source": [
    "The actual synthetic spectra that we've calculated live in a folder heirarchy that is structured as follows:\n",
    "\n",
    "Output_folder_ID  (this is the output_directory specified in the input file)<br>\n",
    "----> Model_XXXX    (there is one of these folders for each of the parameter combinations that you've calculated)<br>\n",
    "--------> HeYY_CNOZZ  (there is one folder per abundance combination.  in this case we only have one)<br>\n",
    "------------>hjdXXXXXXXXXXX_line  (there will be one of each line for each of the times specified in the input file)\n",
    "\n",
    "Lets start by grabbing the HeI4471 line from our first model and plotting it."
   ]
  },
  {
   "cell_type": "code",
   "execution_count": null,
   "id": "8d68ce94",
   "metadata": {},
   "outputs": [],
   "source": [
    "# define the path to the line\n",
    "path_to_heI_line = output_folder + model_number + '/He%s_CNO%s/hjd0.00000000000_HEI4471.txt'%(He_abundance, CNO_abundance)\n",
    "print(path_to_heI_line)\n",
    "\n",
    "# plot the line\n",
    "wavelength, flux = np.loadtxt(path_to_heI_line).T\n",
    "fig, ax = plt.subplots()\n",
    "ax.plot(wavelength, flux)\n",
    "ax.set_xlabel('Wavelength ($\\AA$)')\n",
    "ax.set_ylabel('Normalized Flux')\n",
    "plt.show()"
   ]
  },
  {
   "cell_type": "markdown",
   "id": "8cf10d9c",
   "metadata": {},
   "source": [
    "Individual line profiles can be very useful in some circumstances, but often, plotting the whole spectrum at the same time is much more convenient.  Lets make a function that combines all of the line profiles from a single time step of a model into a spectrum"
   ]
  },
  {
   "cell_type": "code",
   "execution_count": null,
   "id": "3e8b001f",
   "metadata": {},
   "outputs": [],
   "source": [
    "def SPAMMS_lines_stitch(w1, f1, w2, f2):\n",
    "    # To be used with SPAMMS spectral lines.  This function stitches together spectral lines by multiplying\n",
    "    # normalized fluxes.  If there is no overlap region then the lines are just appended\n",
    "    final_wave = []\n",
    "    final_flux = []\n",
    "    \n",
    "    if w1[-1] < w2[0]:\n",
    "        #if no overlap then\n",
    "        final_wave.extend(w1)\n",
    "        final_wave.extend(w2)\n",
    "        final_flux.extend(f1)\n",
    "        final_flux.extend(f2)\n",
    "    else:\n",
    "        # Define a wavelength array that covers both lines and interpolate both to the same wavelength array\n",
    "        # Then multiply the fluxes together and return final wavelength and flux arrays\n",
    "        \n",
    "        final_wave = np.arange(w1[0], w2[-1]+0.001, 0.01)\n",
    "        \n",
    "        f1_interp = np.interp(final_wave, w1, f1, left=1.0, right=1.0)\n",
    "        f2_interp = np.interp(final_wave, w2, f2, left=1.0, right=1.0)\n",
    "        \n",
    "        final_flux = f1_interp * f2_interp\n",
    "        \n",
    "        \n",
    "    return final_wave, final_flux\n",
    "\n",
    "\n",
    "def compile_SPAMMS_spectra(output_folder, model_number, He_abundance, CNO_abundance):\n",
    "    # Load in the relevant information\n",
    "    input_file = output_folder + 'input.txt'\n",
    "\n",
    "    fit_param_values, abund_param_values, line_list, io_dict = sp.read_input_file(input_file)\n",
    "    times, obs_specs = sp.get_obs_spec_and_times(io_dict)\n",
    "\n",
    "    run_dictionaries = sp.create_runs_and_ids(fit_param_values)\n",
    "    run_dictionary = run_dictionaries[int(model_number.split('_')[-1])]\n",
    "    \n",
    "    # define the path to the individual lines\n",
    "    path_to_lines = output_folder + model_number + '/He%s_CNO%s/'%(He_abundance, CNO_abundance)\n",
    "    \n",
    "    # define our wavelength and flux lists where we will append the spectrum from each timestep\n",
    "    wavelengths = []\n",
    "    fluxes = []\n",
    "    \n",
    "    #loop through each time step\n",
    "    for i in range(len(times)):\n",
    "\n",
    "        line_wavelengths = []\n",
    "        line_fluxes = []\n",
    "\n",
    "        # loop through and grab each line\n",
    "        for line in line_list:\n",
    "            w,f = np.loadtxt(path_to_lines + 'hjd' + str(round(times[i], 13)).ljust(13, '0') + '_' + line + '.txt').T\n",
    "            line_wavelengths.append(w)\n",
    "            line_fluxes.append(f)\n",
    "            \n",
    "        # order the lines by wavelength to make stitching them together easier\n",
    "        inds = np.array(np.argsort([i[0] for i in line_wavelengths]))\n",
    "\n",
    "        # lets combine the lines to make a spectrum\n",
    "        wavelength = line_wavelengths[inds[0]]\n",
    "        flux = line_fluxes[inds[0]]\n",
    "        for j in range(1, len(inds)):\n",
    "            wavelength, flux = SPAMMS_lines_stitch(wavelength, flux, line_wavelengths[inds[j]], line_fluxes[inds[j]])\n",
    "\n",
    "        wavelengths.append(wavelength)\n",
    "        fluxes.append(flux)\n",
    "    \n",
    "    return wavelengths, fluxes\n"
   ]
  },
  {
   "cell_type": "markdown",
   "id": "13a5c66b",
   "metadata": {},
   "source": [
    "Lets pass all of the relevant arguments and plot the spectrum for this model."
   ]
  },
  {
   "cell_type": "code",
   "execution_count": null,
   "id": "bf9ad924",
   "metadata": {},
   "outputs": [],
   "source": [
    "wavelengths, fluxes = compile_SPAMMS_spectra(output_folder, model_number, He_abundance, CNO_abundance)\n",
    "\n",
    "# plot the spectrum\n",
    "fig, ax = plt.subplots()\n",
    "ax.plot(wavelengths[0], fluxes[0])\n",
    "ax.set_xlabel('Wavelength ($\\AA$)')\n",
    "ax.set_ylabel('Normalized Flux')\n",
    "plt.show()"
   ]
  },
  {
   "cell_type": "code",
   "execution_count": null,
   "id": "b4066368",
   "metadata": {},
   "outputs": [],
   "source": [
    "# lets plot all of the rotation rates that we've calculated:\n",
    "\n",
    "fig, ax = plt.subplots()\n",
    "cmap = cm.plasma_r\n",
    "\n",
    "for i in range(len(run_dictionaries)):\n",
    "    model = 'Model_' + str(run_dictionaries[i]['run_id']).zfill(4)\n",
    "    wavelengths, fluxes = compile_SPAMMS_spectra(output_folder, model, He_abundance, CNO_abundance)\n",
    "    ax.plot(wavelengths[0], fluxes[0], c = cmap((i + 1) / (len(run_dictionaries)+1)), label = run_dictionaries[i]['v_crit_frac'])\n",
    "\n",
    "ax.set_xlabel('Wavelength ($\\AA$)')\n",
    "ax.set_ylabel('Normalized Flux')\n",
    "plt.legend(loc='best')\n",
    "plt.show()"
   ]
  },
  {
   "cell_type": "markdown",
   "id": "2d634389",
   "metadata": {},
   "source": [
    "## Comparison between rotational distortion and spherical assumptions"
   ]
  },
  {
   "cell_type": "markdown",
   "id": "9042d3a1",
   "metadata": {},
   "source": [
    "Lets repeat the same SPAMMS run as above, but instead this time lets set the distortion method to spherical.  This will impose a spherical geometry for the system, which will mean that there are no surface variations due to the 3D geometry.  In the input file, lets change distortion to 'sphere' and change the name of the output folder to 'Demo_rapid_rotator_spherical'.  Then lets run SPAMMS and plot the output of the spherical models at each rotation rate"
   ]
  },
  {
   "cell_type": "code",
   "execution_count": null,
   "id": "6017b8b3",
   "metadata": {},
   "outputs": [],
   "source": [
    "output_folder = 'Outputs/Demo_rapid_rotator_spherical/'\n",
    "input_file = output_folder + 'input.txt'\n",
    "\n",
    "fit_param_values, abund_param_values, line_list, io_dict = sp.read_input_file(input_file)\n",
    "times, obs_specs = sp.get_obs_spec_and_times(io_dict)\n",
    "\n",
    "run_dictionaries = sp.create_runs_and_ids(fit_param_values)\n",
    "\n",
    "\n",
    "# lets plot all of the rotation rates that we've calculated:\n",
    "\n",
    "fig, ax = plt.subplots()\n",
    "cmap = cm.plasma_r\n",
    "\n",
    "for i in range(len(run_dictionaries)):\n",
    "    model = 'Model_' + str(run_dictionaries[i]['run_id']).zfill(4)\n",
    "    wavelengths, fluxes = compile_SPAMMS_spectra(output_folder, model, He_abundance, CNO_abundance)\n",
    "    ax.plot(wavelengths[0], fluxes[0], c = cmap((i + 1) / (len(run_dictionaries)+1)), label = run_dictionaries[i]['v_crit_frac'])\n",
    "\n",
    "ax.set_xlabel('Wavelength ($\\AA$)')\n",
    "ax.set_ylabel('Normalized Flux')\n",
    "plt.legend(loc='best')\n",
    "plt.show()"
   ]
  },
  {
   "cell_type": "markdown",
   "id": "b936091e",
   "metadata": {},
   "source": [
    "Lets compare an individual model from each.  These have all of the same stellar parameters, the only difference is the treatment of the geometry of the system."
   ]
  },
  {
   "cell_type": "code",
   "execution_count": null,
   "id": "68e44b40",
   "metadata": {},
   "outputs": [],
   "source": [
    "# initialize the plot\n",
    "fig, ax = plt.subplots()\n",
    "\n",
    "# rotational distortion \n",
    "wavelengths, fluxes = compile_SPAMMS_spectra('Outputs/Demo_rapid_rotator/', 'Model_0000', He_abundance, CNO_abundance)\n",
    "ax.plot(wavelengths[0], fluxes[0], c = 'red', label = 'Roche')\n",
    "\n",
    "# spherical\n",
    "wavelengths, fluxes = compile_SPAMMS_spectra('Outputs/Demo_rapid_rotator_spherical/', 'Model_0000', He_abundance, CNO_abundance)\n",
    "ax.plot(wavelengths[0], fluxes[0], c = 'black', label = 'Spherical')\n",
    "\n",
    "ax.set_xlabel('Wavelength ($\\AA$)')\n",
    "ax.set_ylabel('Normalized Flux')\n",
    "plt.legend(loc='best')\n",
    "plt.show()"
   ]
  },
  {
   "cell_type": "code",
   "execution_count": null,
   "id": "827e056b",
   "metadata": {},
   "outputs": [],
   "source": []
  }
 ],
 "metadata": {
  "kernelspec": {
   "display_name": "Python 3 (ipykernel)",
   "language": "python",
   "name": "python3"
  },
  "language_info": {
   "codemirror_mode": {
    "name": "ipython",
    "version": 3
   },
   "file_extension": ".py",
   "mimetype": "text/x-python",
   "name": "python",
   "nbconvert_exporter": "python",
   "pygments_lexer": "ipython3",
   "version": "3.10.6"
  }
 },
 "nbformat": 4,
 "nbformat_minor": 5
}
